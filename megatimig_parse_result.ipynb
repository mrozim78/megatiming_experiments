{
 "cells": [
  {
   "cell_type": "code",
   "execution_count": null,
   "metadata": {
    "scrolled": true
   },
   "outputs": [],
   "source": [
    "from io import BytesIO\n",
    "from zipfile import ZipFile\n",
    "from urllib.request import urlopen\n",
    "import xmltodict\n",
    "import pymongo\n",
    "import json\n",
    "\n",
    "# Read result to string\n",
    "resp = urlopen(\"http://live.megatiming.pl/predki/2019/12_14_torun/results.lxf\")\n",
    "zipfile = ZipFile(BytesIO(resp.read()))\n",
    "xmlFile = zipfile.read(\"results.lef\").decode(\"utf-8\") \n",
    "\n",
    "\n",
    "# change wrong name attributes\n",
    "#result.url, organizer.url, hostclub.url -> result_url , organizer_url , hostclub_url\n",
    "xmlFile = xmlFile.replace(\"result.url\",\"result_url\");\n",
    "xmlFile = xmlFile.replace(\"organizer.url\",\"organizer_url\");\n",
    "xmlFile = xmlFile.replace(\"hostclub.url\",\"hostclub_url\");\n",
    "\n",
    "# read to dictionary\n",
    "data = xmltodict.parse(xmlFile)\n",
    "\n",
    "# open mongodb and write dictionary\n",
    "myclient = pymongo.MongoClient(\"mongodb://localhost:27017/\")\n",
    "mydb = myclient[\"megatiming\"]\n",
    "mycol = mydb[\"results\"]\n",
    "mycol.insert_one(data)\n"
   ]
  },
  {
   "cell_type": "code",
   "execution_count": null,
   "metadata": {},
   "outputs": [],
   "source": []
  }
 ],
 "metadata": {
  "kernelspec": {
   "display_name": "Python 3",
   "language": "python",
   "name": "python3"
  },
  "language_info": {
   "codemirror_mode": {
    "name": "ipython",
    "version": 3
   },
   "file_extension": ".py",
   "mimetype": "text/x-python",
   "name": "python",
   "nbconvert_exporter": "python",
   "pygments_lexer": "ipython3",
   "version": "3.6.9"
  }
 },
 "nbformat": 4,
 "nbformat_minor": 2
}
