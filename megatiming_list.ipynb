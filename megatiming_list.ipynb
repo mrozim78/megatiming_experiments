{
 "cells": [
  {
   "cell_type": "code",
   "execution_count": null,
   "metadata": {},
   "outputs": [],
   "source": [
    "import scrapy\n",
    "import json\n",
    "class MegatimingContestListSpider(scrapy.Spider):\n",
    "    name = \"MegatimingContestListSpider\"\n",
    "\n",
    "    def start_requests(self):\n",
    "        urls = [\n",
    "            'http://megatiming.pl/contests/regional/1',\n",
    "            'http://megatiming.pl/contests/regional/2',\n",
    "            'http://megatiming.pl/contests/regional/3',\n",
    "            'http://megatiming.pl/contests/regional/4',\n",
    "            'http://megatiming.pl/contests/regional/5',\n",
    "            \n",
    "        ]\n",
    "        for url in urls:\n",
    "            yield scrapy.Request(url=url, callback=self.parse)\n",
    "\n",
    "    def parse(self, response):\n",
    "        js_script = response.xpath('/html/body/script[contains(., \"contests\")]/text()').get()\n",
    "        json_source=js_script[js_script.find('data=')+6:-1]       \n",
    "        json_source_1 =  json_source[json_source.find('\"contests\"')+11:] \n",
    "        json_source_2 = json_source_1[:json_source_1.find('\"home\"')-1];\n",
    "        data = json.loads(json_source_2)\n",
    "        for key in data[\"data\"][\"contests\"].keys():\n",
    "            name = data[\"data\"][\"contests\"][key][\"name\"];\n",
    "            startDate = data[\"data\"][\"contests\"][key][\"startDate\"]\n",
    "            endDate = data[\"data\"][\"contests\"][key][\"endDate\"]\n",
    "            print(key+\" : \"+startDate+\"-\"+endDate+\" \"+name)\n",
    "            \n"
   ]
  },
  {
   "cell_type": "code",
   "execution_count": null,
   "metadata": {},
   "outputs": [],
   "source": [
    "from scrapy.crawler import CrawlerProcess\n",
    "process = CrawlerProcess()\n",
    "spider = MegatimingContestListSpider\n",
    "process.crawl(spider)\n",
    "process.start()"
   ]
  },
  {
   "cell_type": "code",
   "execution_count": null,
   "metadata": {},
   "outputs": [],
   "source": []
  }
 ],
 "metadata": {
  "kernelspec": {
   "display_name": "Python 3",
   "language": "python",
   "name": "python3"
  },
  "language_info": {
   "codemirror_mode": {
    "name": "ipython",
    "version": 3
   },
   "file_extension": ".py",
   "mimetype": "text/x-python",
   "name": "python",
   "nbconvert_exporter": "python",
   "pygments_lexer": "ipython3",
   "version": "3.6.9"
  }
 },
 "nbformat": 4,
 "nbformat_minor": 2
}
