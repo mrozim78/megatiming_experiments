{
 "cells": [
  {
   "cell_type": "code",
   "execution_count": 1,
   "metadata": {},
   "outputs": [
    {
     "name": "stderr",
     "output_type": "stream",
     "text": [
      "/usr/local/lib/python3.6/dist-packages/numpy/lib/arraysetops.py:569: FutureWarning: elementwise comparison failed; returning scalar instead, but in the future will perform elementwise comparison\n",
      "  mask |= (ar1 == a)\n"
     ]
    }
   ],
   "source": [
    "#Reading data and filter bad data\n",
    "import pandas as pd\n",
    "import numpy as np\n",
    "data = pd.read_csv(\"result_contest.csv\", index_col=0,low_memory=False)\n",
    "data = data.query('swimtime!=\"00:00:00.00\"')"
   ]
  },
  {
   "cell_type": "code",
   "execution_count": 2,
   "metadata": {},
   "outputs": [],
   "source": [
    "#Clean data\n",
    "data['date']=pd.to_datetime(data['date'])\n",
    "data['athlete_birthdate']=pd.to_datetime(data['athlete_birthdate'])\n",
    "data['swimtime']=pd.to_timedelta(data['swimtime'])\n",
    "data['athlete_swrid'] = data['athlete_swrid'].fillna(-1).astype(np.int64)\n",
    "data['points'] = data['points'].fillna(0).astype(np.int64)\n",
    "data['year'] = data['date'].dt.year\n",
    "data['athlete_year']=data['athlete_birthdate'].dt.year\n",
    "#data['athlete_year'] = data['athlete_year'].astype(np.int64)\n",
    "data['athlete_age']=data['year']-data['athlete_year']\n",
    "#data['athlete_age'] = data['athlete_age'].astype(np.int64)\n",
    "data['athlete_year'] = data['athlete_year'].fillna(-1). astype(np.int64)\n",
    "data['athlete_age'] = data['athlete_age'].fillna(-1).astype(np.int64)                                             \n",
    "data['city'] = data['city'].apply(lambda city:city.capitalize())\n",
    "data['swimtime_only_ms']=data['swimtime'].apply(lambda time :(time.microseconds/1000)).astype(np.int64)\n",
    "data['swimtime_total_ms']=data['swimtime'].apply(lambda time :time.total_seconds()).astype(np.int64)\n",
    "data['swimtime_ms']=data['swimtime_only_ms']+data['swimtime_total_ms']*1000"
   ]
  },
  {
   "cell_type": "code",
   "execution_count": 3,
   "metadata": {},
   "outputs": [
    {
     "data": {
      "text/html": [
       "<div>\n",
       "<style scoped>\n",
       "    .dataframe tbody tr th:only-of-type {\n",
       "        vertical-align: middle;\n",
       "    }\n",
       "\n",
       "    .dataframe tbody tr th {\n",
       "        vertical-align: top;\n",
       "    }\n",
       "\n",
       "    .dataframe thead th {\n",
       "        text-align: right;\n",
       "    }\n",
       "</style>\n",
       "<table border=\"1\" class=\"dataframe\">\n",
       "  <thead>\n",
       "    <tr style=\"text-align: right;\">\n",
       "      <th></th>\n",
       "      <th>id_ranking</th>\n",
       "      <th>uuid</th>\n",
       "      <th>distance</th>\n",
       "      <th>stroke</th>\n",
       "      <th>technique</th>\n",
       "      <th>eventid</th>\n",
       "      <th>agemin</th>\n",
       "      <th>agemax</th>\n",
       "      <th>order</th>\n",
       "      <th>place</th>\n",
       "      <th>...</th>\n",
       "      <th>url</th>\n",
       "      <th>city</th>\n",
       "      <th>name</th>\n",
       "      <th>date</th>\n",
       "      <th>year</th>\n",
       "      <th>athlete_year</th>\n",
       "      <th>athlete_age</th>\n",
       "      <th>swimtime_only_ms</th>\n",
       "      <th>swimtime_total_ms</th>\n",
       "      <th>swimtime_ms</th>\n",
       "    </tr>\n",
       "  </thead>\n",
       "  <tbody>\n",
       "    <tr>\n",
       "      <th>0</th>\n",
       "      <td>5e2875cc6eff87f1a4978590</td>\n",
       "      <td>2f69d8db-8378-402f-99d2-8cb4e1b8c0c3</td>\n",
       "      <td>50</td>\n",
       "      <td>BACK</td>\n",
       "      <td>NORMAL</td>\n",
       "      <td>1148</td>\n",
       "      <td>-1</td>\n",
       "      <td>10</td>\n",
       "      <td>1</td>\n",
       "      <td>1</td>\n",
       "      <td>...</td>\n",
       "      <td>http://megatiming.pl/contest/2f69d8db-8378-402...</td>\n",
       "      <td>Elbląg</td>\n",
       "      <td>IV Elbląska Jesień Pływacka</td>\n",
       "      <td>2019-12-31</td>\n",
       "      <td>2019</td>\n",
       "      <td>2009</td>\n",
       "      <td>10</td>\n",
       "      <td>850</td>\n",
       "      <td>43</td>\n",
       "      <td>43850</td>\n",
       "    </tr>\n",
       "    <tr>\n",
       "      <th>1</th>\n",
       "      <td>5e2875cc6eff87f1a4978591</td>\n",
       "      <td>2f69d8db-8378-402f-99d2-8cb4e1b8c0c3</td>\n",
       "      <td>50</td>\n",
       "      <td>BACK</td>\n",
       "      <td>NORMAL</td>\n",
       "      <td>1148</td>\n",
       "      <td>-1</td>\n",
       "      <td>10</td>\n",
       "      <td>2</td>\n",
       "      <td>2</td>\n",
       "      <td>...</td>\n",
       "      <td>http://megatiming.pl/contest/2f69d8db-8378-402...</td>\n",
       "      <td>Elbląg</td>\n",
       "      <td>IV Elbląska Jesień Pływacka</td>\n",
       "      <td>2019-12-31</td>\n",
       "      <td>2019</td>\n",
       "      <td>2009</td>\n",
       "      <td>10</td>\n",
       "      <td>60</td>\n",
       "      <td>44</td>\n",
       "      <td>44060</td>\n",
       "    </tr>\n",
       "    <tr>\n",
       "      <th>2</th>\n",
       "      <td>5e2875cc6eff87f1a4978592</td>\n",
       "      <td>2f69d8db-8378-402f-99d2-8cb4e1b8c0c3</td>\n",
       "      <td>50</td>\n",
       "      <td>BACK</td>\n",
       "      <td>NORMAL</td>\n",
       "      <td>1148</td>\n",
       "      <td>-1</td>\n",
       "      <td>10</td>\n",
       "      <td>3</td>\n",
       "      <td>3</td>\n",
       "      <td>...</td>\n",
       "      <td>http://megatiming.pl/contest/2f69d8db-8378-402...</td>\n",
       "      <td>Elbląg</td>\n",
       "      <td>IV Elbląska Jesień Pływacka</td>\n",
       "      <td>2019-12-31</td>\n",
       "      <td>2019</td>\n",
       "      <td>2009</td>\n",
       "      <td>10</td>\n",
       "      <td>550</td>\n",
       "      <td>45</td>\n",
       "      <td>45550</td>\n",
       "    </tr>\n",
       "    <tr>\n",
       "      <th>3</th>\n",
       "      <td>5e2875cc6eff87f1a4978593</td>\n",
       "      <td>2f69d8db-8378-402f-99d2-8cb4e1b8c0c3</td>\n",
       "      <td>50</td>\n",
       "      <td>BACK</td>\n",
       "      <td>NORMAL</td>\n",
       "      <td>1148</td>\n",
       "      <td>-1</td>\n",
       "      <td>10</td>\n",
       "      <td>4</td>\n",
       "      <td>4</td>\n",
       "      <td>...</td>\n",
       "      <td>http://megatiming.pl/contest/2f69d8db-8378-402...</td>\n",
       "      <td>Elbląg</td>\n",
       "      <td>IV Elbląska Jesień Pływacka</td>\n",
       "      <td>2019-12-31</td>\n",
       "      <td>2019</td>\n",
       "      <td>2009</td>\n",
       "      <td>10</td>\n",
       "      <td>580</td>\n",
       "      <td>48</td>\n",
       "      <td>48580</td>\n",
       "    </tr>\n",
       "    <tr>\n",
       "      <th>4</th>\n",
       "      <td>5e2875cc6eff87f1a4978594</td>\n",
       "      <td>2f69d8db-8378-402f-99d2-8cb4e1b8c0c3</td>\n",
       "      <td>50</td>\n",
       "      <td>BACK</td>\n",
       "      <td>NORMAL</td>\n",
       "      <td>1148</td>\n",
       "      <td>-1</td>\n",
       "      <td>10</td>\n",
       "      <td>5</td>\n",
       "      <td>5</td>\n",
       "      <td>...</td>\n",
       "      <td>http://megatiming.pl/contest/2f69d8db-8378-402...</td>\n",
       "      <td>Elbląg</td>\n",
       "      <td>IV Elbląska Jesień Pływacka</td>\n",
       "      <td>2019-12-31</td>\n",
       "      <td>2019</td>\n",
       "      <td>2009</td>\n",
       "      <td>10</td>\n",
       "      <td>980</td>\n",
       "      <td>48</td>\n",
       "      <td>48980</td>\n",
       "    </tr>\n",
       "    <tr>\n",
       "      <th>5</th>\n",
       "      <td>5e2875cc6eff87f1a4978595</td>\n",
       "      <td>2f69d8db-8378-402f-99d2-8cb4e1b8c0c3</td>\n",
       "      <td>50</td>\n",
       "      <td>BACK</td>\n",
       "      <td>NORMAL</td>\n",
       "      <td>1148</td>\n",
       "      <td>-1</td>\n",
       "      <td>10</td>\n",
       "      <td>6</td>\n",
       "      <td>6</td>\n",
       "      <td>...</td>\n",
       "      <td>http://megatiming.pl/contest/2f69d8db-8378-402...</td>\n",
       "      <td>Elbląg</td>\n",
       "      <td>IV Elbląska Jesień Pływacka</td>\n",
       "      <td>2019-12-31</td>\n",
       "      <td>2019</td>\n",
       "      <td>2010</td>\n",
       "      <td>9</td>\n",
       "      <td>970</td>\n",
       "      <td>49</td>\n",
       "      <td>49970</td>\n",
       "    </tr>\n",
       "    <tr>\n",
       "      <th>6</th>\n",
       "      <td>5e2875cc6eff87f1a4978596</td>\n",
       "      <td>2f69d8db-8378-402f-99d2-8cb4e1b8c0c3</td>\n",
       "      <td>50</td>\n",
       "      <td>BACK</td>\n",
       "      <td>NORMAL</td>\n",
       "      <td>1148</td>\n",
       "      <td>-1</td>\n",
       "      <td>10</td>\n",
       "      <td>7</td>\n",
       "      <td>7</td>\n",
       "      <td>...</td>\n",
       "      <td>http://megatiming.pl/contest/2f69d8db-8378-402...</td>\n",
       "      <td>Elbląg</td>\n",
       "      <td>IV Elbląska Jesień Pływacka</td>\n",
       "      <td>2019-12-31</td>\n",
       "      <td>2019</td>\n",
       "      <td>2009</td>\n",
       "      <td>10</td>\n",
       "      <td>130</td>\n",
       "      <td>51</td>\n",
       "      <td>51130</td>\n",
       "    </tr>\n",
       "    <tr>\n",
       "      <th>7</th>\n",
       "      <td>5e2875cc6eff87f1a4978597</td>\n",
       "      <td>2f69d8db-8378-402f-99d2-8cb4e1b8c0c3</td>\n",
       "      <td>50</td>\n",
       "      <td>BACK</td>\n",
       "      <td>NORMAL</td>\n",
       "      <td>1148</td>\n",
       "      <td>-1</td>\n",
       "      <td>10</td>\n",
       "      <td>8</td>\n",
       "      <td>8</td>\n",
       "      <td>...</td>\n",
       "      <td>http://megatiming.pl/contest/2f69d8db-8378-402...</td>\n",
       "      <td>Elbląg</td>\n",
       "      <td>IV Elbląska Jesień Pływacka</td>\n",
       "      <td>2019-12-31</td>\n",
       "      <td>2019</td>\n",
       "      <td>2009</td>\n",
       "      <td>10</td>\n",
       "      <td>750</td>\n",
       "      <td>51</td>\n",
       "      <td>51750</td>\n",
       "    </tr>\n",
       "    <tr>\n",
       "      <th>8</th>\n",
       "      <td>5e2875cc6eff87f1a4978598</td>\n",
       "      <td>2f69d8db-8378-402f-99d2-8cb4e1b8c0c3</td>\n",
       "      <td>50</td>\n",
       "      <td>BACK</td>\n",
       "      <td>NORMAL</td>\n",
       "      <td>1148</td>\n",
       "      <td>-1</td>\n",
       "      <td>10</td>\n",
       "      <td>9</td>\n",
       "      <td>9</td>\n",
       "      <td>...</td>\n",
       "      <td>http://megatiming.pl/contest/2f69d8db-8378-402...</td>\n",
       "      <td>Elbląg</td>\n",
       "      <td>IV Elbląska Jesień Pływacka</td>\n",
       "      <td>2019-12-31</td>\n",
       "      <td>2019</td>\n",
       "      <td>2010</td>\n",
       "      <td>9</td>\n",
       "      <td>910</td>\n",
       "      <td>55</td>\n",
       "      <td>55910</td>\n",
       "    </tr>\n",
       "    <tr>\n",
       "      <th>9</th>\n",
       "      <td>5e2875cc6eff87f1a4978599</td>\n",
       "      <td>2f69d8db-8378-402f-99d2-8cb4e1b8c0c3</td>\n",
       "      <td>50</td>\n",
       "      <td>BACK</td>\n",
       "      <td>NORMAL</td>\n",
       "      <td>1148</td>\n",
       "      <td>-1</td>\n",
       "      <td>10</td>\n",
       "      <td>10</td>\n",
       "      <td>10</td>\n",
       "      <td>...</td>\n",
       "      <td>http://megatiming.pl/contest/2f69d8db-8378-402...</td>\n",
       "      <td>Elbląg</td>\n",
       "      <td>IV Elbląska Jesień Pływacka</td>\n",
       "      <td>2019-12-31</td>\n",
       "      <td>2019</td>\n",
       "      <td>2010</td>\n",
       "      <td>9</td>\n",
       "      <td>600</td>\n",
       "      <td>56</td>\n",
       "      <td>56600</td>\n",
       "    </tr>\n",
       "  </tbody>\n",
       "</table>\n",
       "<p>10 rows × 38 columns</p>\n",
       "</div>"
      ],
      "text/plain": [
       "                 id_ranking                                  uuid  distance  \\\n",
       "0  5e2875cc6eff87f1a4978590  2f69d8db-8378-402f-99d2-8cb4e1b8c0c3        50   \n",
       "1  5e2875cc6eff87f1a4978591  2f69d8db-8378-402f-99d2-8cb4e1b8c0c3        50   \n",
       "2  5e2875cc6eff87f1a4978592  2f69d8db-8378-402f-99d2-8cb4e1b8c0c3        50   \n",
       "3  5e2875cc6eff87f1a4978593  2f69d8db-8378-402f-99d2-8cb4e1b8c0c3        50   \n",
       "4  5e2875cc6eff87f1a4978594  2f69d8db-8378-402f-99d2-8cb4e1b8c0c3        50   \n",
       "5  5e2875cc6eff87f1a4978595  2f69d8db-8378-402f-99d2-8cb4e1b8c0c3        50   \n",
       "6  5e2875cc6eff87f1a4978596  2f69d8db-8378-402f-99d2-8cb4e1b8c0c3        50   \n",
       "7  5e2875cc6eff87f1a4978597  2f69d8db-8378-402f-99d2-8cb4e1b8c0c3        50   \n",
       "8  5e2875cc6eff87f1a4978598  2f69d8db-8378-402f-99d2-8cb4e1b8c0c3        50   \n",
       "9  5e2875cc6eff87f1a4978599  2f69d8db-8378-402f-99d2-8cb4e1b8c0c3        50   \n",
       "\n",
       "  stroke technique  eventid  agemin  agemax  order  place  ...  \\\n",
       "0   BACK    NORMAL     1148      -1      10      1      1  ...   \n",
       "1   BACK    NORMAL     1148      -1      10      2      2  ...   \n",
       "2   BACK    NORMAL     1148      -1      10      3      3  ...   \n",
       "3   BACK    NORMAL     1148      -1      10      4      4  ...   \n",
       "4   BACK    NORMAL     1148      -1      10      5      5  ...   \n",
       "5   BACK    NORMAL     1148      -1      10      6      6  ...   \n",
       "6   BACK    NORMAL     1148      -1      10      7      7  ...   \n",
       "7   BACK    NORMAL     1148      -1      10      8      8  ...   \n",
       "8   BACK    NORMAL     1148      -1      10      9      9  ...   \n",
       "9   BACK    NORMAL     1148      -1      10     10     10  ...   \n",
       "\n",
       "                                                 url    city  \\\n",
       "0  http://megatiming.pl/contest/2f69d8db-8378-402...  Elbląg   \n",
       "1  http://megatiming.pl/contest/2f69d8db-8378-402...  Elbląg   \n",
       "2  http://megatiming.pl/contest/2f69d8db-8378-402...  Elbląg   \n",
       "3  http://megatiming.pl/contest/2f69d8db-8378-402...  Elbląg   \n",
       "4  http://megatiming.pl/contest/2f69d8db-8378-402...  Elbląg   \n",
       "5  http://megatiming.pl/contest/2f69d8db-8378-402...  Elbląg   \n",
       "6  http://megatiming.pl/contest/2f69d8db-8378-402...  Elbląg   \n",
       "7  http://megatiming.pl/contest/2f69d8db-8378-402...  Elbląg   \n",
       "8  http://megatiming.pl/contest/2f69d8db-8378-402...  Elbląg   \n",
       "9  http://megatiming.pl/contest/2f69d8db-8378-402...  Elbląg   \n",
       "\n",
       "                          name       date  year athlete_year athlete_age  \\\n",
       "0  IV Elbląska Jesień Pływacka 2019-12-31  2019         2009          10   \n",
       "1  IV Elbląska Jesień Pływacka 2019-12-31  2019         2009          10   \n",
       "2  IV Elbląska Jesień Pływacka 2019-12-31  2019         2009          10   \n",
       "3  IV Elbląska Jesień Pływacka 2019-12-31  2019         2009          10   \n",
       "4  IV Elbląska Jesień Pływacka 2019-12-31  2019         2009          10   \n",
       "5  IV Elbląska Jesień Pływacka 2019-12-31  2019         2010           9   \n",
       "6  IV Elbląska Jesień Pływacka 2019-12-31  2019         2009          10   \n",
       "7  IV Elbląska Jesień Pływacka 2019-12-31  2019         2009          10   \n",
       "8  IV Elbląska Jesień Pływacka 2019-12-31  2019         2010           9   \n",
       "9  IV Elbląska Jesień Pływacka 2019-12-31  2019         2010           9   \n",
       "\n",
       "   swimtime_only_ms swimtime_total_ms swimtime_ms  \n",
       "0               850                43       43850  \n",
       "1                60                44       44060  \n",
       "2               550                45       45550  \n",
       "3               580                48       48580  \n",
       "4               980                48       48980  \n",
       "5               970                49       49970  \n",
       "6               130                51       51130  \n",
       "7               750                51       51750  \n",
       "8               910                55       55910  \n",
       "9               600                56       56600  \n",
       "\n",
       "[10 rows x 38 columns]"
      ]
     },
     "execution_count": 3,
     "metadata": {},
     "output_type": "execute_result"
    }
   ],
   "source": [
    "#Show our data\n",
    "data.head(10)"
   ]
  },
  {
   "cell_type": "code",
   "execution_count": 4,
   "metadata": {},
   "outputs": [],
   "source": [
    "all_data = data.query('athlete_age==8 and distance==25 and stroke ==\"FREE\" and technique==\"NORMAL\" and athlete_gender==\"M\"').sort_values(by='swimtime')[[\"uuid\",\"name\",\"city\" ,\"date\",\"athlete_firstname\",\"athlete_lastname\",\"athlete_swrid\" ,\"swimtime\",\"athlete_age\",\"swimtime_ms\"]]"
   ]
  },
  {
   "cell_type": "code",
   "execution_count": 5,
   "metadata": {},
   "outputs": [
    {
     "data": {
      "text/plain": [
       "Text(0, 0.5, 'Count')"
      ]
     },
     "execution_count": 5,
     "metadata": {},
     "output_type": "execute_result"
    },
    {
     "data": {
      "image/png": "[encoded data removed]",
      "text/plain": [
       "<Figure size 842.4x595.44 with 1 Axes>"
      ]
     },
     "metadata": {
      "needs_background": "light"
     },
     "output_type": "display_data"
    }
   ],
   "source": [
    "from matplotlib import pyplot\n",
    "import seaborn as sns\n",
    "\n",
    "a4_dims = (11.7, 8.27)\n",
    "fig, ax = pyplot.subplots(figsize=a4_dims)\n",
    "plot = sns.distplot(all_data['swimtime_ms']/1000, bins=100,kde=False)\n",
    "plot.set_xlabel('Time in seconds')\n",
    "plot.set_ylabel('Count')"
   ]
  },
  {
   "cell_type": "code",
   "execution_count": 6,
   "metadata": {},
   "outputs": [],
   "source": [
    "athlete_data_free = data.query('distance==25 and stroke ==\"FREE\" and technique==\"NORMAL\" and athlete_firstname==\"Filip\" and athlete_lastname==\"Mrozek\"').sort_values(by='date')[[\"uuid\",\"name\",\"city\" ,\"date\",\"athlete_firstname\",\"athlete_lastname\",\"athlete_swrid\" ,\"swimtime\",\"athlete_age\",\"swimtime_ms\"]]"
   ]
  },
  {
   "cell_type": "code",
   "execution_count": 7,
   "metadata": {},
   "outputs": [
    {
     "data": {
      "text/plain": [
       "Text(0.5, 1.0, 'Time in free style in 25m')"
      ]
     },
     "execution_count": 7,
     "metadata": {},
     "output_type": "execute_result"
    },
    {
     "data": {
      "image/png": "[encoded data removed]",
      "text/plain": [
       "<Figure size 842.4x595.44 with 1 Axes>"
      ]
     },
     "metadata": {
      "needs_background": "light"
     },
     "output_type": "display_data"
    }
   ],
   "source": [
    "from matplotlib import pyplot\n",
    "import seaborn as sns\n",
    "from pandas.plotting import register_matplotlib_converters\n",
    "register_matplotlib_converters()\n",
    "    \n",
    "a4_dims = (11.7, 8.27)\n",
    "fig, ax = pyplot.subplots(figsize=a4_dims)\n",
    "x_dates = athlete_data_free['date'].dt.strftime('%Y-%m-%d').sort_values().unique()\n",
    "ax.set_xticklabels(labels=x_dates, rotation=45, ha='right')\n",
    "plot = sns.lineplot(x=athlete_data_free['date'],y=athlete_data_free['swimtime_ms']/1000,)\n",
    "plot.invert_yaxis()\n",
    "plot.set_xlabel('Date')\n",
    "plot.set_ylabel('Time in seconds')\n",
    "plot.set_title('Time in free style in 25m')"
   ]
  },
  {
   "cell_type": "code",
   "execution_count": 8,
   "metadata": {},
   "outputs": [],
   "source": [
    "all_data[\"swimtime_ms\"].mean()\n",
    "\n",
    "mean_athelete = all_data.groupby(['date']).mean()[\"swimtime_ms\"].to_frame(name = 'swimtime_ms').reset_index()\n",
    "mean_athelete[\"type\"] = 'Mean'\n",
    "\n",
    "min_athelete = all_data.groupby(['date']).min()[\"swimtime_ms\"].to_frame(name = 'swimtime_ms').reset_index()\n",
    "min_athelete[\"type\"] = 'Min'\n",
    "\n",
    "max_athelete = all_data.groupby(['date']).max()[\"swimtime_ms\"].to_frame(name = 'swimtime_ms').reset_index()\n",
    "max_athelete[\"type\"] = 'Max'\n",
    "\n",
    "athelete = athlete_data_free.loc[:,[\"date\",\"swimtime_ms\"]]\n",
    "athelete[\"type\"]=\"Athlete\"\n",
    "\n",
    "result = pd.concat([mean_athelete, min_athelete, max_athelete,athelete])\n",
    "result_date = result[(result['date'] > '2019-01-01') & (result['date'] < '2019-12-31')]\n"
   ]
  },
  {
   "cell_type": "code",
   "execution_count": 18,
   "metadata": {},
   "outputs": [
    {
     "data": {
      "text/plain": [
       "Text(0.5, 1.0, 'Time in free style in 25m')"
      ]
     },
     "execution_count": 18,
     "metadata": {},
     "output_type": "execute_result"
    },
    {
     "data": {
      "image/png": "[encoded data removed]",
      "text/plain": [
       "<Figure size 842.4x595.44 with 1 Axes>"
      ]
     },
     "metadata": {
      "needs_background": "light"
     },
     "output_type": "display_data"
    }
   ],
   "source": [
    "from matplotlib import pyplot\n",
    "import seaborn as sns\n",
    "from pandas.plotting import register_matplotlib_converters\n",
    "register_matplotlib_converters()\n",
    "    \n",
    "a4_dims = (11.7, 8.27)\n",
    "fig, ax = pyplot.subplots(figsize=a4_dims)\n",
    "x_dates = result['date'].dt.strftime('%Y-%m-%d').sort_values().unique()\n",
    "ax.set_xticklabels(labels=x_dates, rotation=45, ha='right')\n",
    "plot = sns.barplot(x='date',y='swimtime_ms' , hue ='type' , data=result_date)\n",
    "plot.invert_yaxis()\n",
    "plot.set_xlabel('Date')\n",
    "plot.set_ylabel('Time in seconds')\n",
    "plot.set_title('Time in free style in 25m')"
   ]
  },
  {
   "cell_type": "code",
   "execution_count": 10,
   "metadata": {},
   "outputs": [
    {
     "data": {
      "text/plain": [
       "26474.59025319902"
      ]
     },
     "execution_count": 10,
     "metadata": {},
     "output_type": "execute_result"
    }
   ],
   "source": [
    "all_data[\"swimtime_ms\"].mean()"
   ]
  },
  {
   "cell_type": "code",
   "execution_count": 11,
   "metadata": {},
   "outputs": [
    {
     "data": {
      "text/plain": [
       "123070"
      ]
     },
     "execution_count": 11,
     "metadata": {},
     "output_type": "execute_result"
    }
   ],
   "source": [
    "all_data[\"swimtime_ms\"].max()"
   ]
  },
  {
   "cell_type": "code",
   "execution_count": 12,
   "metadata": {},
   "outputs": [
    {
     "data": {
      "text/plain": [
       "14810"
      ]
     },
     "execution_count": 12,
     "metadata": {},
     "output_type": "execute_result"
    }
   ],
   "source": [
    "all_data[\"swimtime_ms\"].min()"
   ]
  },
  {
   "cell_type": "code",
   "execution_count": 13,
   "metadata": {},
   "outputs": [
    {
     "data": {
      "text/plain": [
       "20890.666666666668"
      ]
     },
     "execution_count": 13,
     "metadata": {},
     "output_type": "execute_result"
    }
   ],
   "source": [
    "athlete_data_free[\"swimtime_ms\"].mean()"
   ]
  },
  {
   "cell_type": "code",
   "execution_count": 14,
   "metadata": {},
   "outputs": [
    {
     "data": {
      "text/plain": [
       "33060"
      ]
     },
     "execution_count": 14,
     "metadata": {},
     "output_type": "execute_result"
    }
   ],
   "source": [
    "athlete_data_free[\"swimtime_ms\"].max()"
   ]
  },
  {
   "cell_type": "code",
   "execution_count": 15,
   "metadata": {},
   "outputs": [
    {
     "data": {
      "text/plain": [
       "16470"
      ]
     },
     "execution_count": 15,
     "metadata": {},
     "output_type": "execute_result"
    }
   ],
   "source": [
    "athlete_data_free[\"swimtime_ms\"].min()"
   ]
  },
  {
   "cell_type": "code",
   "execution_count": null,
   "metadata": {},
   "outputs": [],
   "source": []
  }
 ],
 "metadata": {
  "kernelspec": {
   "display_name": "Python 3",
   "language": "python",
   "name": "python3"
  },
  "language_info": {
   "codemirror_mode": {
    "name": "ipython",
    "version": 3
   },
   "file_extension": ".py",
   "mimetype": "text/x-python",
   "name": "python",
   "nbconvert_exporter": "python",
   "pygments_lexer": "ipython3",
   "version": "3.6.9"
  }
 },
 "nbformat": 4,
 "nbformat_minor": 2
}
