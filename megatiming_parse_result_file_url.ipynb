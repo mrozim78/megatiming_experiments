{
 "cells": [
  {
   "cell_type": "code",
   "execution_count": 1,
   "metadata": {},
   "outputs": [],
   "source": [
    "import scrapy\n",
    "import json\n",
    "class MegatimingContestFileNameSpider(scrapy.Spider):\n",
    "    uuid = \"6cff4181-ee9c-4e4f-893c-ec7890c07d4d\"\n",
    "    name = \"MegatimingContestFileNameSpider\"\n",
    "\n",
    "    def start_requests(self):\n",
    "        urls = [\n",
    "            \"http://megatiming.pl/contest/\"+self.uuid\n",
    "        ]\n",
    "        for url in urls:\n",
    "            yield scrapy.Request(url=url, callback=self.parse)\n",
    "    def parse(self, response):\n",
    "        js_script = response.xpath('/html/body/script[contains(., \"contests\")]/text()').get()\n",
    "        json_source_1=js_script[js_script.find('\"contests\"')+11:-1]\n",
    "        json_source_2=json_source_1[:json_source_1.find('\"home\"')-1]\n",
    "        data = json.loads(json_source_2)\n",
    "        \n",
    "       \n",
    "        #print(data[\"data\"][\"contests\"][self.uuid][\"files\"][\"result\"])\n",
    "        for element in data[\"data\"][\"contests\"][self.uuid][\"files\"][\"result\"]:\n",
    "            #print(element);\n",
    "            if (element[\"url\"].find(\"lxf\")>=0):\n",
    "                print(element[\"url\"])"
   ]
  },
  {
   "cell_type": "code",
   "execution_count": 2,
   "metadata": {},
   "outputs": [
    {
     "name": "stderr",
     "output_type": "stream",
     "text": [
      "2020-01-06 17:55:34 [scrapy.utils.log] INFO: Scrapy 1.8.0 started (bot: scrapybot)\n",
      "2020-01-06 17:55:34 [scrapy.utils.log] INFO: Versions: lxml 4.4.2.0, libxml2 2.9.9, cssselect 1.1.0, parsel 1.5.2, w3lib 1.21.0, Twisted 19.10.0, Python 3.6.9 (default, Nov  7 2019, 10:44:02) - [GCC 8.3.0], pyOpenSSL 19.1.0 (OpenSSL 1.1.1d  10 Sep 2019), cryptography 2.8, Platform Linux-5.0.0-37-generic-x86_64-with-LinuxMint-19.3-tricia\n",
      "2020-01-06 17:55:34 [scrapy.crawler] INFO: Overridden settings: {}\n",
      "2020-01-06 17:55:34 [scrapy.extensions.telnet] INFO: Telnet Password: 22bc381b01d2ea97\n",
      "2020-01-06 17:55:34 [scrapy.middleware] INFO: Enabled extensions:\n",
      "['scrapy.extensions.corestats.CoreStats',\n",
      " 'scrapy.extensions.telnet.TelnetConsole',\n",
      " 'scrapy.extensions.memusage.MemoryUsage',\n",
      " 'scrapy.extensions.logstats.LogStats']\n",
      "2020-01-06 17:55:34 [scrapy.middleware] INFO: Enabled downloader middlewares:\n",
      "['scrapy.downloadermiddlewares.httpauth.HttpAuthMiddleware',\n",
      " 'scrapy.downloadermiddlewares.downloadtimeout.DownloadTimeoutMiddleware',\n",
      " 'scrapy.downloadermiddlewares.defaultheaders.DefaultHeadersMiddleware',\n",
      " 'scrapy.downloadermiddlewares.useragent.UserAgentMiddleware',\n",
      " 'scrapy.downloadermiddlewares.retry.RetryMiddleware',\n",
      " 'scrapy.downloadermiddlewares.redirect.MetaRefreshMiddleware',\n",
      " 'scrapy.downloadermiddlewares.httpcompression.HttpCompressionMiddleware',\n",
      " 'scrapy.downloadermiddlewares.redirect.RedirectMiddleware',\n",
      " 'scrapy.downloadermiddlewares.cookies.CookiesMiddleware',\n",
      " 'scrapy.downloadermiddlewares.httpproxy.HttpProxyMiddleware',\n",
      " 'scrapy.downloadermiddlewares.stats.DownloaderStats']\n",
      "2020-01-06 17:55:34 [scrapy.middleware] INFO: Enabled spider middlewares:\n",
      "['scrapy.spidermiddlewares.httperror.HttpErrorMiddleware',\n",
      " 'scrapy.spidermiddlewares.offsite.OffsiteMiddleware',\n",
      " 'scrapy.spidermiddlewares.referer.RefererMiddleware',\n",
      " 'scrapy.spidermiddlewares.urllength.UrlLengthMiddleware',\n",
      " 'scrapy.spidermiddlewares.depth.DepthMiddleware']\n",
      "2020-01-06 17:55:34 [scrapy.middleware] INFO: Enabled item pipelines:\n",
      "[]\n",
      "2020-01-06 17:55:34 [scrapy.core.engine] INFO: Spider opened\n",
      "2020-01-06 17:55:34 [scrapy.extensions.logstats] INFO: Crawled 0 pages (at 0 pages/min), scraped 0 items (at 0 items/min)\n",
      "2020-01-06 17:55:34 [scrapy.extensions.telnet] INFO: Telnet console listening on 127.0.0.1:6023\n",
      "2020-01-06 17:55:34 [scrapy.core.engine] DEBUG: Crawled (200) <GET http://megatiming.pl/contest/6cff4181-ee9c-4e4f-893c-ec7890c07d4d> (referer: None)\n",
      "2020-01-06 17:55:34 [scrapy.core.engine] INFO: Closing spider (finished)\n",
      "2020-01-06 17:55:34 [scrapy.statscollectors] INFO: Dumping Scrapy stats:\n",
      "{'downloader/request_bytes': 256,\n",
      " 'downloader/request_count': 1,\n",
      " 'downloader/request_method_count/GET': 1,\n",
      " 'downloader/response_bytes': 7390,\n",
      " 'downloader/response_count': 1,\n",
      " 'downloader/response_status_count/200': 1,\n",
      " 'elapsed_time_seconds': 0.173754,\n",
      " 'finish_reason': 'finished',\n",
      " 'finish_time': datetime.datetime(2020, 1, 6, 16, 55, 34, 815863),\n",
      " 'log_count/DEBUG': 1,\n",
      " 'log_count/INFO': 10,\n",
      " 'memusage/max': 76537856,\n",
      " 'memusage/startup': 76537856,\n",
      " 'response_received_count': 1,\n",
      " 'scheduler/dequeued': 1,\n",
      " 'scheduler/dequeued/memory': 1,\n",
      " 'scheduler/enqueued': 1,\n",
      " 'scheduler/enqueued/memory': 1,\n",
      " 'start_time': datetime.datetime(2020, 1, 6, 16, 55, 34, 642109)}\n",
      "2020-01-06 17:55:34 [scrapy.core.engine] INFO: Spider closed (finished)\n"
     ]
    },
    {
     "name": "stdout",
     "output_type": "stream",
     "text": [
      "http://live.megatiming.pl/predki/2019/12_14_torun/results.lxf\n"
     ]
    }
   ],
   "source": [
    "from scrapy.crawler import CrawlerProcess\n",
    "process = CrawlerProcess()\n",
    "spider = MegatimingContestFileNameSpider\n",
    "process.crawl(spider)\n",
    "process.start()"
   ]
  }
 ],
 "metadata": {
  "kernelspec": {
   "display_name": "Python 3",
   "language": "python",
   "name": "python3"
  },
  "language_info": {
   "codemirror_mode": {
    "name": "ipython",
    "version": 3
   },
   "file_extension": ".py",
   "mimetype": "text/x-python",
   "name": "python",
   "nbconvert_exporter": "python",
   "pygments_lexer": "ipython3",
   "version": "3.6.9"
  }
 },
 "nbformat": 4,
 "nbformat_minor": 2
}
