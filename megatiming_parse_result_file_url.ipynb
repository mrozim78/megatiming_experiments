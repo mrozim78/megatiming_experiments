{
 "cells": [
  {
   "cell_type": "code",
   "execution_count": null,
   "metadata": {},
   "outputs": [],
   "source": [
    "import scrapy\n",
    "import json\n",
    "class MegatimingContestFileNameSpider(scrapy.Spider):\n",
    "    uuid = \"6cff4181-ee9c-4e4f-893c-ec7890c07d4d\"\n",
    "    name = \"MegatimingContestFileNameSpider\"\n",
    "\n",
    "    def start_requests(self):\n",
    "        urls = [\n",
    "            \"http://megatiming.pl/contest/\"+self.uuid\n",
    "        ]\n",
    "        for url in urls:\n",
    "            yield scrapy.Request(url=url, callback=self.parse)\n",
    "    def parse(self, response):\n",
    "        js_script = response.xpath('/html/body/script[contains(., \"contests\")]/text()').get()\n",
    "        json_source_1=js_script[js_script.find('\"contests\"')+11:-1]\n",
    "        json_source_2=json_source_1[:json_source_1.find('\"home\"')-1]\n",
    "        data = json.loads(json_source_2)\n",
    "        \n",
    "       \n",
    "        #print(data[\"data\"][\"contests\"][self.uuid][\"files\"][\"result\"])\n",
    "        for element in data[\"data\"][\"contests\"][self.uuid][\"files\"][\"result\"]:\n",
    "            #print(element);\n",
    "            if (element[\"url\"].find(\"lxf\")>=0):\n",
    "                print(element[\"url\"])"
   ]
  },
  {
   "cell_type": "code",
   "execution_count": null,
   "metadata": {},
   "outputs": [],
   "source": [
    "from scrapy.crawler import CrawlerProcess\n",
    "process = CrawlerProcess()\n",
    "spider = MegatimingContestFileNameSpider\n",
    "process.crawl(spider)\n",
    "process.start()"
   ]
  }
 ],
 "metadata": {
  "kernelspec": {
   "display_name": "Python 3",
   "language": "python",
   "name": "python3"
  },
  "language_info": {
   "codemirror_mode": {
    "name": "ipython",
    "version": 3
   },
   "file_extension": ".py",
   "mimetype": "text/x-python",
   "name": "python",
   "nbconvert_exporter": "python",
   "pygments_lexer": "ipython3",
   "version": "3.6.9"
  }
 },
 "nbformat": 4,
 "nbformat_minor": 2
}
